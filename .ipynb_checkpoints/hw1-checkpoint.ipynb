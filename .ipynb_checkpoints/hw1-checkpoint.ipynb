{
 "cells": [
  {
   "cell_type": "code",
   "execution_count": 73,
   "metadata": {},
   "outputs": [
    {
     "name": "stdout",
     "output_type": "stream",
     "text": [
      "1\n",
      "env1 removed\n"
     ]
    }
   ],
   "source": [
    "import libtmux\n",
    "import socket\n",
    "import os\n",
    "import tqdm\n",
    "import argparse\n",
    "\n",
    "parser = argparse.ArgumentParser()\n",
    "parser.add_argument(\"--num_jp\", help=\"number of jupyter notebooks to start\", type=int)\n",
    "parser.add_argument(\"--name_sess\", help=\"name of session\", type=str)\n",
    "parser.add_argument(\"--num_win_to_kill\", help=\"number of env you want to kill\", type=int, action=\"store_true\")\n",
    "args = parser.parse_args()\n",
    "\n",
    "s = libtmux.Server()\n",
    "def start(args.num_jp, base_dir='./'):\n",
    "    num_users = args.num_jp\n",
    "    #start N jupyter notebooks\n",
    "    k = s.new_session(args.name_sess)\n",
    "    i = 1\n",
    "    while ( i <= num_users):\n",
    "        portNum = 8000+i\n",
    "        mypath = './'+str(i)\n",
    "        if not os.path.isdir(mypath):\n",
    "            os.makedirs(mypath)\n",
    "        name = 'env'+str(i)\n",
    "        s.set_environment(name,str(i))\n",
    "        w = k.new_window(window_name='window'+str(i))\n",
    "        pane = w.panes[0]\n",
    "        token = 'a'*i\n",
    "        command = 'jupyter notebook --ip {} --port {} --no-browser --NotebookApp.token={} --NotebookApp.notebook_dir={}'.format('127.0.0.1',str(portNum),str(token),mypath)\n",
    "        pane.send_keys(command)\n",
    "        i = i+1\n",
    "    print (s.show_environment('env1'))\n",
    "    pass\n",
    "    \n",
    "\n",
    "def stop(args.name_sess, args.num_win_to_kill):\n",
    "    num = args.num_win_to_kill\n",
    "    session_name = args.name_ses\n",
    "    #kill env and adjacent window\n",
    "    name = 'env' + str(num)\n",
    "    targetWin = 'window' + str(num)\n",
    "    session = s.find_where({\"session_name\": session_name})\n",
    "    session.remove_environment(name)\n",
    "    session.kill_window(target_window=targetWin)\n",
    "    print (name + ' removed')\n",
    "    pass\n",
    "\n",
    "\n",
    "def stop_all(args.name_ses):\n",
    "    session_name = args.name_ses\n",
    "    #kill session\n",
    "    s.kill_session(session_name)\n",
    "    print(session_name + ' killed')\n",
    "    pass\n",
    "\n",
    "start(args.num_jp)\n",
    "stop(args.num_win_to_kill,args.num_win_to_kill)\n",
    "stop_all(args.num_win_to_kill)"
   ]
  },
  {
   "cell_type": "code",
   "execution_count": null,
   "metadata": {},
   "outputs": [],
   "source": []
  }
 ],
 "metadata": {
  "kernelspec": {
   "display_name": "Python 3",
   "language": "python",
   "name": "python3"
  },
  "language_info": {
   "codemirror_mode": {
    "name": "ipython",
    "version": 3
   },
   "file_extension": ".py",
   "mimetype": "text/x-python",
   "name": "python",
   "nbconvert_exporter": "python",
   "pygments_lexer": "ipython3",
   "version": "3.6.4"
  }
 },
 "nbformat": 4,
 "nbformat_minor": 2
}
