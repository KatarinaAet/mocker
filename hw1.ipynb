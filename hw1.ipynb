{
 "cells": [
  {
   "cell_type": "code",
   "execution_count": 73,
   "metadata": {},
   "outputs": [
    {
     "name": "stdout",
     "output_type": "stream",
     "text": [
      "1\n",
      "env1 removed\n"
     ]
    }
   ],
   "source": [
    "import libtmux\n",
    "import socket\n",
    "import os\n",
    "import tqdm\n",
    "\n",
    "s = libtmux.Server()\n",
    "def start(num_users, base_dir='./'):\n",
    "    #start N jupyter notebooks\n",
    "    k = s.new_session('session2')\n",
    "    i = 1\n",
    "    while ( i <= num_users):\n",
    "        portNum = 8000+i\n",
    "        mypath = './'+str(i)\n",
    "        if not os.path.isdir(mypath):\n",
    "            os.makedirs(mypath)\n",
    "        name = 'env'+str(i)\n",
    "        s.set_environment(name,str(i))\n",
    "        w = k.new_window(window_name='window'+str(i))\n",
    "        pane = w.panes[0]\n",
    "        token = 'a'*i\n",
    "        command = 'jupyter notebook --ip {} --port {} --no-browser --NotebookApp.token={} --NotebookApp.notebook_dir={}'.format('127.0.0.1',str(portNum),str(token),mypath)\n",
    "        pane.send_keys(command)\n",
    "        i = i+1\n",
    "    print (s.show_environment('env1'))\n",
    "    pass\n",
    "    \n",
    "\n",
    "def stop(session_name, num):\n",
    "    #kill env and adjacent window\n",
    "    name = 'env' + str(num)\n",
    "    targetWin = 'window' + str(num)\n",
    "    session = s.find_where({\"session_name\": session_name})\n",
    "    session.remove_environment(name)\n",
    "    session.kill_window(target_window=targetWin)\n",
    "    print (name + ' removed')\n",
    "    pass\n",
    "\n",
    "\n",
    "def stop_all(session_name):\n",
    "    #kill session\n",
    "    s.kill_session(session_name)\n",
    "    print(session_name + ' killed')\n",
    "    pass\n",
    "\n",
    "start(10)\n",
    "stop('session2',1)\n",
    "stop_all('session2')"
   ]
  },
  {
   "cell_type": "code",
   "execution_count": null,
   "metadata": {},
   "outputs": [],
   "source": []
  }
 ],
 "metadata": {
  "kernelspec": {
   "display_name": "Python 3",
   "language": "python",
   "name": "python3"
  },
  "language_info": {
   "codemirror_mode": {
    "name": "ipython",
    "version": 3
   },
   "file_extension": ".py",
   "mimetype": "text/x-python",
   "name": "python",
   "nbconvert_exporter": "python",
   "pygments_lexer": "ipython3",
   "version": "3.6.4"
  }
 },
 "nbformat": 4,
 "nbformat_minor": 2
}
